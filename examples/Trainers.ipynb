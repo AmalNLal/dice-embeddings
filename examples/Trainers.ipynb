{
 "cells": [
  {
   "cell_type": "markdown",
   "metadata": {
    "collapsed": true,
    "pycharm": {
     "name": "#%% md\n"
    }
   },
   "source": [
    "# Pytorch-Lightning Trainer\n",
    "\n",
    "By setting --trainer PL, pytorch-lightning can be used to train a knowledge graph embedding model\n",
    "\n",
    "### Using two GPUs\n",
    "python main.py --model 'DistMult' --trainer PL --num_epochs 10 --gpus 2\n",
    "\n",
    "### Using two GPUs with DDP\n",
    "python main.py --model 'DistMult' --trainer PL --num_epochs 10 --accelerator gpu\n",
    "\n",
    "\n",
    "### Using two GPUs with DDP with Low-Precision\n",
    "python main.py --model 'DistMult' --trainer PL --num_epochs 50 --accelerator gpu --precision 16\n",
    "\n",
    "python main.py --model 'DistMult' --trainer PL --num_epochs 50 --accelerator gpu --precision bf16\n",
    "\n",
    "\n",
    "### Using two GPUs with Model Parallel ([Deep-Speed 3](https://lightning.ai/docs/pytorch/stable/advanced/model_parallel.html#deepspeed-zero-stage-3-offload)) and Low-Precision\n",
    "\n",
    "python main.py --path_dataset_folder 'KGs/YAGO3-10' --trainer PL --accelerator gpu --strategy deepspeed_stage_3 --precision 16"
   ]
  }
 ],
 "metadata": {
  "kernelspec": {
   "display_name": "Python 3",
   "language": "python",
   "name": "python3"
  },
  "language_info": {
   "codemirror_mode": {
    "name": "ipython",
    "version": 2
   },
   "file_extension": ".py",
   "mimetype": "text/x-python",
   "name": "python",
   "nbconvert_exporter": "python",
   "pygments_lexer": "ipython2",
   "version": "2.7.6"
  }
 },
 "nbformat": 4,
 "nbformat_minor": 0
}